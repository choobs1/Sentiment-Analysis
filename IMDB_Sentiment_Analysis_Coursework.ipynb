{
  "nbformat": 4,
  "nbformat_minor": 0,
  "metadata": {
    "colab": {
      "provenance": []
    },
    "kernelspec": {
      "name": "python3",
      "display_name": "Python 3"
    },
    "language_info": {
      "name": "python"
    },
    "accelerator": "GPU",
    "gpuClass": "standard"
  },
  "cells": [
    {
      "cell_type": "markdown",
      "source": [
        "# CM30320 Coursework"
      ],
      "metadata": {
        "id": "w4kimWuWhd3p"
      }
    },
    {
      "cell_type": "markdown",
      "source": [
        "## Task & Data Analysis"
      ],
      "metadata": {
        "id": "t_KX73WChlcE"
      }
    },
    {
      "cell_type": "markdown",
      "source": [
        "We can see that our data is divided into numerous text files; it is a subset of the entire Movie Review Dataset that includes 2,000 positive and 2,000 negative movie reviews. The names of the text files containing the reviews' text content are their respective review ids and ratings. The reviews are then extracted by taking into account these text files and the directories they are located in. \n",
        "\n",
        "Given the star rating, we could extract that information. The data is divided into positive and negative based on a threshold of the rating. To simplify the task, the model here does not take into consideration the rating and we rely on only the postive/negative class. This leads to the conclusion that this problem would be a binary classification task.\n",
        "\n",
        "We start the implementation by importing the relevant modules for this task. We consider the python libraries specialised for NLP tasks: nltk, spacy, re, and string. Furthermore, we also import the models that we would used for this classification task: Naive Bayes. We later look into various methods, in this module, that contain important functions for syntatic ananlysis, and also the different databases for the aforementioned functions."
      ],
      "metadata": {
        "id": "W-iZOrTMuI4I"
      }
    },
    {
      "cell_type": "code",
      "source": [
        "import nltk, re, os, string\n",
        "import numpy as np\n",
        "import pandas as pd\n",
        "import spacy\n",
        "import scipy\n",
        "import matplotlib.pyplot as plt\n",
        "import wordcloud\n",
        "import tensorflow as tf\n",
        "import keras\n",
        "from textblob import Word\n",
        "from google.colab import drive\n",
        "from nltk import word_tokenize\n",
        "from nltk.corpus import stopwords, wordnet\n",
        "from nltk.stem.lancaster import LancasterStemmer\n",
        "from nltk.stem import WordNetLemmatizer\n",
        "from os import listdir\n",
        "from os.path import isfile, join\n",
        "from sklearn.preprocessing import LabelEncoder\n",
        "from sklearn.feature_extraction.text import TfidfVectorizer, CountVectorizer\n",
        "from sklearn.model_selection import train_test_split, StratifiedShuffleSplit, cross_val_predict\n",
        "from sklearn.naive_bayes import MultinomialNB\n",
        "from sklearn.tree import DecisionTreeClassifier\n",
        "from sklearn.linear_model import LogisticRegression\n",
        "from sklearn import manifold, metrics\n",
        "from keras.models import Sequential\n",
        "from keras.preprocessing.text import Tokenizer\n",
        "from keras_preprocessing.sequence import pad_sequences\n",
        "from keras.layers import Dense, Embedding, LSTM, SpatialDropout1D\n",
        "from keras import callbacks\n",
        "\n",
        "nltk.download('punkt')\n",
        "nltk.download('stopwords')\n",
        "nltk.download('wordnet')\n",
        "nltk.download('omw-1.4')\n",
        "nltk.download('averaged_perceptron_tagger')\n",
        "drive.mount('/content/drive')\n"
      ],
      "metadata": {
        "colab": {
          "base_uri": "https://localhost:8080/"
        },
        "id": "BFup9FqSj6K4",
        "outputId": "aa9e02e8-7fa5-4c08-89d5-b4ae2e2c853f"
      },
      "execution_count": 41,
      "outputs": [
        {
          "output_type": "stream",
          "name": "stderr",
          "text": [
            "[nltk_data] Downloading package punkt to /root/nltk_data...\n",
            "[nltk_data]   Package punkt is already up-to-date!\n",
            "[nltk_data] Downloading package stopwords to /root/nltk_data...\n",
            "[nltk_data]   Package stopwords is already up-to-date!\n",
            "[nltk_data] Downloading package wordnet to /root/nltk_data...\n",
            "[nltk_data]   Package wordnet is already up-to-date!\n",
            "[nltk_data] Downloading package omw-1.4 to /root/nltk_data...\n",
            "[nltk_data]   Package omw-1.4 is already up-to-date!\n",
            "[nltk_data] Downloading package averaged_perceptron_tagger to\n",
            "[nltk_data]     /root/nltk_data...\n",
            "[nltk_data]   Package averaged_perceptron_tagger is already up-to-\n",
            "[nltk_data]       date!\n"
          ]
        },
        {
          "output_type": "stream",
          "name": "stdout",
          "text": [
            "Drive already mounted at /content/drive; to attempt to forcibly remount, call drive.mount(\"/content/drive\", force_remount=True).\n"
          ]
        }
      ]
    },
    {
      "cell_type": "markdown",
      "source": [
        "## Pre-processing the Data\n",
        "\n",
        "These are methods to do morphological analysis, where we find the base form of the word; it is done to reduce computational complexity and also make sure relevant information is not lost.\n",
        "\n",
        "**Lemmatization** algorithms work based on a dictionary of base forms. They first check the part of speech tag of the word to find out the base form and this is the reason why the nltk lemmatizer requires the pos tag as a parameter (spacy's lemmatizer does not require this). This method is more resource intensive but provides us with more human readable data.\n",
        "\n",
        "Part of Speech tagging is the process of classifying words in a text according to a specific part of speech based on the word's definition and context. The typical structure of lexical phrases within a sentence or text is described by part-of-speech tags, so we may use them to infer semantics.\n",
        "\n",
        "**Stemmming** on the other hand resorts to the cutting of word at a specific length. It does not use part of speech tags and does not lead to human readable data. However, it is more efficient and can be used if we want our algorithm to compute quicker.\n",
        "\n",
        "**Tokenisation** is the first pre processing step that we do. Machines get words as sequences of symbols and have no idea what it means. Tokenization or word segmentation is the task of seperating out words in raw text.\n",
        "\n",
        "It needs to be applied before other tools are applied, it has to run fast and be accurate. We do not create our own tokenizer here and rather use nltk's tokenizer which effectively gives us words as tokens in a list. We use this in tandem with our stemming or lemmatization algorithms.\n",
        "\n",
        "Furthermore, before performing tokenisation, we ensure that we clean our text; we remove the brackets, the irrelavant punctuation and also HTML tags. We do the following using regex patterns and the string library provided by python."
      ],
      "metadata": {
        "id": "ZX8ZN5iWjiDj"
      }
    },
    {
      "cell_type": "code",
      "source": [
        "## globals\n",
        "reviews = []\n",
        "sentiments = []\n",
        "\n",
        "def clean_text(text, remove_digits=True):\n",
        "  pattern = r'[^a-zA-z0-9\\s]'\n",
        "  text = re.sub('\\[[^]]*\\]', '', text)\n",
        "  text = re.sub(pattern, '', text)\n",
        "  return text\n",
        "\n",
        "def get_wordnet_pos(word:str):\n",
        "    \"\"\"Map POS tag to first character lemmatize() accepts\"\"\"\n",
        "    tag = nltk.pos_tag([word])[0][1][0].upper()\n",
        "    tag_dict = {\"J\": wordnet.ADJ,\n",
        "                \"N\": wordnet.NOUN,\n",
        "                \"V\": wordnet.VERB,\n",
        "                \"R\": wordnet.ADV}\n",
        "\n",
        "    return tag_dict.get(tag, wordnet.NOUN)\n",
        "\n",
        "def process_stem(text:str) -> list:\n",
        "  stoplist = set(stopwords.words('english') + ['movie', 'film'])\n",
        "  st = LancasterStemmer()\n",
        "  text_temp = text\n",
        "  text_temp = clean_text(text)\n",
        "  word_list = [st.stem(word) for word in word_tokenize(text_temp.lower()) if not word in stoplist \n",
        "               and not word in string.punctuation]\n",
        "  return word_list\n",
        "\n",
        "def process_lemm(text:str) -> list:\n",
        "  stoplist = set(stopwords.words('english') + ['movie', 'film'] )\n",
        "  lemmatizer =  WordNetLemmatizer()\n",
        "  text_temp = text\n",
        "  text_temp = clean_text(text)\n",
        "  word_list = [lemmatizer.lemmatize(word, get_wordnet_pos(word)) for word in word_tokenize(text_temp.lower()) if not word in stoplist \n",
        "               and not word in string.punctuation]\n",
        "  return word_list\n",
        "\n",
        "def get_reviews(review_type:str) -> list:\n",
        "  reviews_list = []\n",
        "  for file in listdir(f\"/content/drive/MyDrive/Colab Notebooks/CM30320/Data/{review_type}\"):\n",
        "    with open(f\"/content/drive/MyDrive/Colab Notebooks/CM30320/Data/{review_type}/{file}\",'r') as review:\n",
        "      reviews_list.append(review.read().replace(\"<br />\",\" \"))\n",
        "  return reviews_list\n",
        "\n",
        "def get_sentiment(review_type:str) -> list:\n",
        "  if review_type == \"pos\":\n",
        "    return [0] * 2000\n",
        "  elif review_type == \"neg\":\n",
        "    return[1] * 2000\n",
        "\n",
        "def detokenize(reviews):\n",
        "  detokenized_doc = []\n",
        "  for i in range(len(reviews)):\n",
        "    t = ' '.join(reviews[i])\n",
        "  detokenized_doc.append(t)\n",
        "  return detokenized_doc"
      ],
      "metadata": {
        "id": "AH2W3Vf4qHE5"
      },
      "execution_count": 3,
      "outputs": []
    },
    {
      "cell_type": "markdown",
      "source": [
        "### Initial Data Acquistion Approach\n",
        "\n",
        "We begin by creating two global list variables; reviews and sentiments. We acquire the data from the text files by iterating through them based on their folder. The text is then cleaned initially from the `<br />` tag as it is difficult to remove alone using regex. We add the positive reviews and negative reviews into a single reviews list. \n",
        "\n",
        "Since, we know that the first 2000 reviews are positive and the next 2000 reviews are negative, we create the sentiment list quite easily. This sentiment list is used as our label. \n",
        "\n",
        "After the following we create the `cleaned_text`, `lemmatized_reviews`, and `stemmed_reviews` lists using the raw data of `reviews` list. After getting the following we create our dataframe holding our data together."
      ],
      "metadata": {
        "id": "UFZTaon17xoj"
      }
    },
    {
      "cell_type": "code",
      "source": [
        "reviews = get_reviews(\"pos\") + get_reviews(\"neg\")\n",
        "sentiment = get_sentiment(\"pos\") + get_sentiment(\"neg\")"
      ],
      "metadata": {
        "id": "ALuCKsHRT5Tq"
      },
      "execution_count": 4,
      "outputs": []
    },
    {
      "cell_type": "code",
      "source": [
        "lemmatized_reviews = list(map(process_lemm, reviews))\n",
        "stemmed_reviews = list(map(process_stem, reviews))\n",
        "cleaned_text = list(map(clean_text, reviews))"
      ],
      "metadata": {
        "id": "TeY4nQCGU-xm"
      },
      "execution_count": 5,
      "outputs": []
    },
    {
      "cell_type": "code",
      "source": [
        "df = pd.DataFrame({\n",
        "    \"Reviews\": reviews,\n",
        "    \"Lemmatized\": lemmatized_reviews,\n",
        "    \"Stemmed\" : stemmed_reviews,\n",
        "    \"Cleaned\": cleaned_text,\n",
        "    \"Sentiment\" : sentiment\n",
        "})\n",
        "\n",
        "# label_encoder = LabelEncoder()\n",
        "# df['Sentiment'] = label_encoder.fit_transform(df['Sentiment'])\n",
        "\n",
        "df.head()"
      ],
      "metadata": {
        "colab": {
          "base_uri": "https://localhost:8080/",
          "height": 206
        },
        "id": "R7w-20-QVUnZ",
        "outputId": "722e8e96-ae28-4e18-edb5-7f7e17a59a41"
      },
      "execution_count": 6,
      "outputs": [
        {
          "output_type": "execute_result",
          "data": {
            "text/plain": [
              "                                             Reviews  \\\n",
              "0  In some ways, The Wrath of Kriemhild surpasses...   \n",
              "1  I've seen the original English version on vide...   \n",
              "2  Hello, I was alanrickmaniac. I'm a Still Crazy...   \n",
              "3  I did not like Chandni Bar from the same direc...   \n",
              "4  \"A Mouse in the House\" is a very classic carto...   \n",
              "\n",
              "                                          Lemmatized  \\\n",
              "0  [way, wrath, kriemhild, surpasses, siegfried, ...   \n",
              "1  [ive, see, original, english, version, video, ...   \n",
              "2  [hello, alanrickmaniac, im, still, crazyholic,...   \n",
              "3  [like, chandni, bar, director, watch, movie, c...   \n",
              "4  [mouse, house, classic, cartoon, tom, jerry, f...   \n",
              "\n",
              "                                             Stemmed  \\\n",
              "0  [way, wra, kriemhild, surpass, siegfry, dea, a...   \n",
              "1  [iv, seen, origin, engl, vert, video, disney, ...   \n",
              "2  [hello, alanrickmaniac, im, stil, crazyhol, an...   \n",
              "3  [lik, chandn, bar, direct, watch, movy, cam, w...   \n",
              "4  [mous, hous, class, cartoon, tom, jerry, faith...   \n",
              "\n",
              "                                             Cleaned  Sentiment  \n",
              "0  In some ways The Wrath of Kriemhild surpasses ...          0  \n",
              "1  Ive seen the original English version on video...          0  \n",
              "2  Hello I was alanrickmaniac Im a Still Crazyhol...          0  \n",
              "3  I did not like Chandni Bar from the same direc...          0  \n",
              "4  A Mouse in the House is a very classic cartoon...          0  "
            ],
            "text/html": [
              "\n",
              "  <div id=\"df-2258a2ec-7f60-4551-a8ab-a98401b43630\">\n",
              "    <div class=\"colab-df-container\">\n",
              "      <div>\n",
              "<style scoped>\n",
              "    .dataframe tbody tr th:only-of-type {\n",
              "        vertical-align: middle;\n",
              "    }\n",
              "\n",
              "    .dataframe tbody tr th {\n",
              "        vertical-align: top;\n",
              "    }\n",
              "\n",
              "    .dataframe thead th {\n",
              "        text-align: right;\n",
              "    }\n",
              "</style>\n",
              "<table border=\"1\" class=\"dataframe\">\n",
              "  <thead>\n",
              "    <tr style=\"text-align: right;\">\n",
              "      <th></th>\n",
              "      <th>Reviews</th>\n",
              "      <th>Lemmatized</th>\n",
              "      <th>Stemmed</th>\n",
              "      <th>Cleaned</th>\n",
              "      <th>Sentiment</th>\n",
              "    </tr>\n",
              "  </thead>\n",
              "  <tbody>\n",
              "    <tr>\n",
              "      <th>0</th>\n",
              "      <td>In some ways, The Wrath of Kriemhild surpasses...</td>\n",
              "      <td>[way, wrath, kriemhild, surpasses, siegfried, ...</td>\n",
              "      <td>[way, wra, kriemhild, surpass, siegfry, dea, a...</td>\n",
              "      <td>In some ways The Wrath of Kriemhild surpasses ...</td>\n",
              "      <td>0</td>\n",
              "    </tr>\n",
              "    <tr>\n",
              "      <th>1</th>\n",
              "      <td>I've seen the original English version on vide...</td>\n",
              "      <td>[ive, see, original, english, version, video, ...</td>\n",
              "      <td>[iv, seen, origin, engl, vert, video, disney, ...</td>\n",
              "      <td>Ive seen the original English version on video...</td>\n",
              "      <td>0</td>\n",
              "    </tr>\n",
              "    <tr>\n",
              "      <th>2</th>\n",
              "      <td>Hello, I was alanrickmaniac. I'm a Still Crazy...</td>\n",
              "      <td>[hello, alanrickmaniac, im, still, crazyholic,...</td>\n",
              "      <td>[hello, alanrickmaniac, im, stil, crazyhol, an...</td>\n",
              "      <td>Hello I was alanrickmaniac Im a Still Crazyhol...</td>\n",
              "      <td>0</td>\n",
              "    </tr>\n",
              "    <tr>\n",
              "      <th>3</th>\n",
              "      <td>I did not like Chandni Bar from the same direc...</td>\n",
              "      <td>[like, chandni, bar, director, watch, movie, c...</td>\n",
              "      <td>[lik, chandn, bar, direct, watch, movy, cam, w...</td>\n",
              "      <td>I did not like Chandni Bar from the same direc...</td>\n",
              "      <td>0</td>\n",
              "    </tr>\n",
              "    <tr>\n",
              "      <th>4</th>\n",
              "      <td>\"A Mouse in the House\" is a very classic carto...</td>\n",
              "      <td>[mouse, house, classic, cartoon, tom, jerry, f...</td>\n",
              "      <td>[mous, hous, class, cartoon, tom, jerry, faith...</td>\n",
              "      <td>A Mouse in the House is a very classic cartoon...</td>\n",
              "      <td>0</td>\n",
              "    </tr>\n",
              "  </tbody>\n",
              "</table>\n",
              "</div>\n",
              "      <button class=\"colab-df-convert\" onclick=\"convertToInteractive('df-2258a2ec-7f60-4551-a8ab-a98401b43630')\"\n",
              "              title=\"Convert this dataframe to an interactive table.\"\n",
              "              style=\"display:none;\">\n",
              "        \n",
              "  <svg xmlns=\"http://www.w3.org/2000/svg\" height=\"24px\"viewBox=\"0 0 24 24\"\n",
              "       width=\"24px\">\n",
              "    <path d=\"M0 0h24v24H0V0z\" fill=\"none\"/>\n",
              "    <path d=\"M18.56 5.44l.94 2.06.94-2.06 2.06-.94-2.06-.94-.94-2.06-.94 2.06-2.06.94zm-11 1L8.5 8.5l.94-2.06 2.06-.94-2.06-.94L8.5 2.5l-.94 2.06-2.06.94zm10 10l.94 2.06.94-2.06 2.06-.94-2.06-.94-.94-2.06-.94 2.06-2.06.94z\"/><path d=\"M17.41 7.96l-1.37-1.37c-.4-.4-.92-.59-1.43-.59-.52 0-1.04.2-1.43.59L10.3 9.45l-7.72 7.72c-.78.78-.78 2.05 0 2.83L4 21.41c.39.39.9.59 1.41.59.51 0 1.02-.2 1.41-.59l7.78-7.78 2.81-2.81c.8-.78.8-2.07 0-2.86zM5.41 20L4 18.59l7.72-7.72 1.47 1.35L5.41 20z\"/>\n",
              "  </svg>\n",
              "      </button>\n",
              "      \n",
              "  <style>\n",
              "    .colab-df-container {\n",
              "      display:flex;\n",
              "      flex-wrap:wrap;\n",
              "      gap: 12px;\n",
              "    }\n",
              "\n",
              "    .colab-df-convert {\n",
              "      background-color: #E8F0FE;\n",
              "      border: none;\n",
              "      border-radius: 50%;\n",
              "      cursor: pointer;\n",
              "      display: none;\n",
              "      fill: #1967D2;\n",
              "      height: 32px;\n",
              "      padding: 0 0 0 0;\n",
              "      width: 32px;\n",
              "    }\n",
              "\n",
              "    .colab-df-convert:hover {\n",
              "      background-color: #E2EBFA;\n",
              "      box-shadow: 0px 1px 2px rgba(60, 64, 67, 0.3), 0px 1px 3px 1px rgba(60, 64, 67, 0.15);\n",
              "      fill: #174EA6;\n",
              "    }\n",
              "\n",
              "    [theme=dark] .colab-df-convert {\n",
              "      background-color: #3B4455;\n",
              "      fill: #D2E3FC;\n",
              "    }\n",
              "\n",
              "    [theme=dark] .colab-df-convert:hover {\n",
              "      background-color: #434B5C;\n",
              "      box-shadow: 0px 1px 3px 1px rgba(0, 0, 0, 0.15);\n",
              "      filter: drop-shadow(0px 1px 2px rgba(0, 0, 0, 0.3));\n",
              "      fill: #FFFFFF;\n",
              "    }\n",
              "  </style>\n",
              "\n",
              "      <script>\n",
              "        const buttonEl =\n",
              "          document.querySelector('#df-2258a2ec-7f60-4551-a8ab-a98401b43630 button.colab-df-convert');\n",
              "        buttonEl.style.display =\n",
              "          google.colab.kernel.accessAllowed ? 'block' : 'none';\n",
              "\n",
              "        async function convertToInteractive(key) {\n",
              "          const element = document.querySelector('#df-2258a2ec-7f60-4551-a8ab-a98401b43630');\n",
              "          const dataTable =\n",
              "            await google.colab.kernel.invokeFunction('convertToInteractive',\n",
              "                                                     [key], {});\n",
              "          if (!dataTable) return;\n",
              "\n",
              "          const docLinkHtml = 'Like what you see? Visit the ' +\n",
              "            '<a target=\"_blank\" href=https://colab.research.google.com/notebooks/data_table.ipynb>data table notebook</a>'\n",
              "            + ' to learn more about interactive tables.';\n",
              "          element.innerHTML = '';\n",
              "          dataTable['output_type'] = 'display_data';\n",
              "          await google.colab.output.renderOutput(dataTable, element);\n",
              "          const docLink = document.createElement('div');\n",
              "          docLink.innerHTML = docLinkHtml;\n",
              "          element.appendChild(docLink);\n",
              "        }\n",
              "      </script>\n",
              "    </div>\n",
              "  </div>\n",
              "  "
            ]
          },
          "metadata": {},
          "execution_count": 6
        }
      ]
    },
    {
      "cell_type": "markdown",
      "source": [
        "### Cummulative frequency of words and its effects\n",
        "Here we built a chart to see the cummulative counts of word increase based on \n",
        "their occurences. We look at the frequency of the lemmatized text. As the text has been cleared of stopwords, we see that the cummulative frequency does not saturate as soon. \n",
        "\n",
        "However, we the effects of the stopwords in the graph below. These words help 'glue' the information together but do not offer much on their own. Therefore, we consider removing them as part of feature selection. This would help us in finding the best features for our model and also allow us to reduce training time. \n",
        "\n",
        "We do this step during our lemmatization/stemming process in the list comprehension we make, as you can see from the functions defined above. If the word is in the stoplist (which we gather from the nltk word corpus; we get the stopwords), we do not add the word to the list.\n",
        "\n",
        "Furthermore, consideration is taken to remove words; 'movie' and 'film' as we know that we are talking about movies or films here, and also they were occuring quite often in the corpus not providing us with further information."
      ],
      "metadata": {
        "id": "3l0Nz0_O0puL"
      }
    },
    {
      "cell_type": "code",
      "source": [
        "def feq_50words(df_column):\n",
        "  corpus = df_column.values.tolist()\n",
        "  corpus = [word for sentence in corpus for word in sentence]\n",
        "  frequency = nltk.FreqDist(corpus)\n",
        "  return frequency\n",
        "\n",
        "frequency = feq_50words(df['Lemmatized'])\n",
        "print(frequency.most_common(50))\n",
        "frequency.plot(50, cumulative=True)"
      ],
      "metadata": {
        "colab": {
          "base_uri": "https://localhost:8080/",
          "height": 372
        },
        "id": "nrJhOM9Es2dn",
        "outputId": "b30cea8d-f419-47b0-c294-b86019f48d36"
      },
      "execution_count": 7,
      "outputs": [
        {
          "output_type": "stream",
          "name": "stdout",
          "text": [
            "[('one', 4484), ('make', 3781), ('like', 3570), ('see', 3286), ('get', 2894), ('time', 2425), ('well', 2424), ('good', 2359), ('character', 2349), ('go', 2308), ('story', 2252), ('watch', 2093), ('even', 2088), ('would', 2008), ('bad', 1991), ('really', 1887), ('scene', 1791), ('show', 1681), ('great', 1665), ('much', 1658), ('also', 1629), ('end', 1605), ('look', 1597), ('film', 1531), ('say', 1529), ('people', 1480), ('first', 1476), ('give', 1476), ('way', 1438), ('love', 1380), ('thing', 1352), ('come', 1352), ('know', 1346), ('think', 1340), ('dont', 1333), ('take', 1321), ('act', 1319), ('life', 1297), ('could', 1295), ('seem', 1273), ('movie', 1254), ('work', 1180), ('two', 1162), ('want', 1132), ('little', 1113), ('plot', 1100), ('actor', 1073), ('try', 1068), ('many', 1068), ('never', 1057)]\n"
          ]
        },
        {
          "output_type": "display_data",
          "data": {
            "text/plain": [
              "<Figure size 432x288 with 1 Axes>"
            ],
            "image/png": "[encoded data removed]"
          },
          "metadata": {
            "needs_background": "light"
          }
        },
        {
          "output_type": "execute_result",
          "data": {
            "text/plain": [
              "<matplotlib.axes._subplots.AxesSubplot at 0x7fbb090f2be0>"
            ]
          },
          "metadata": {},
          "execution_count": 7
        }
      ]
    },
    {
      "cell_type": "code",
      "source": [
        "reviews_token_df = pd.DataFrame({\n",
        "    'tokens' : list(map(word_tokenize, df['Reviews'])) \n",
        "})\n",
        "frequency = feq_50words(reviews_token_df['tokens'])\n",
        "print(frequency.most_common(50))\n",
        "frequency.plot(50, cumulative=True)"
      ],
      "metadata": {
        "colab": {
          "base_uri": "https://localhost:8080/",
          "height": 355
        },
        "id": "C8jS78U6zhWi",
        "outputId": "5ce82f71-ce89-4479-e79c-957e38faeec0"
      },
      "execution_count": 8,
      "outputs": [
        {
          "output_type": "stream",
          "name": "stdout",
          "text": [
            "[('the', 48132), (',', 45251), ('.', 44739), ('a', 26499), ('and', 25869), ('of', 23776), ('to', 22377), ('is', 18263), ('in', 14745), ('I', 13056), ('it', 12492), ('that', 11750), (\"'s\", 10638), ('this', 9786), ('was', 7993), ('as', 7405), ('The', 7276), ('with', 7258), ('for', 7066), ('movie', 6686), ('film', 6526), (')', 6204), ('(', 6097), ('but', 5960), ('``', 5522), (\"''\", 5501), (\"n't\", 5425), ('on', 5235), ('are', 5084), ('his', 4843), ('not', 4823), ('you', 4787), ('have', 4564), ('he', 4324), ('be', 4248), ('one', 3949), ('by', 3660), ('at', 3556), ('an', 3508), ('who', 3489), ('all', 3429), ('from', 3300), ('!', 3256), ('they', 3186), ('her', 3113), ('like', 3112), ('It', 2964), ('so', 2853), ('about', 2850), ('has', 2782)]\n"
          ]
        },
        {
          "output_type": "display_data",
          "data": {
            "text/plain": [
              "<Figure size 432x288 with 1 Axes>"
            ],
            "image/png": "[encoded data removed]"
          },
          "metadata": {
            "needs_background": "light"
          }
        },
        {
          "output_type": "execute_result",
          "data": {
            "text/plain": [
              "<matplotlib.axes._subplots.AxesSubplot at 0x7fbafecb1b50>"
            ]
          },
          "metadata": {},
          "execution_count": 8
        }
      ]
    },
    {
      "cell_type": "markdown",
      "source": [
        "### Visualising most common words through word cloud\n",
        "To understand the whole corpus better, a word cloud is created to check which words are worth considering and which are not. The size of the word represents the frequency of the occurence.There are still some words which are irrelvant to our model but individually removing them all would be difficult. There is also a possibility that their relationships could prove beneficial."
      ],
      "metadata": {
        "id": "lL9EbujQuvhu"
      }
    },
    {
      "cell_type": "code",
      "source": [
        "most_common_words=''\n",
        "for text in df.Lemmatized:\n",
        "  text = str(text)\n",
        "  tokens = text.split()\n",
        "  most_common_words += \" \".join(tokens) + \" \"\n",
        "cloud = wordcloud.WordCloud().generate(most_common_words)\n",
        "plt.imshow(cloud, interpolation='bilinear')\n",
        "plt.axis(\"off\")\n",
        "plt.show() "
      ],
      "metadata": {
        "colab": {
          "base_uri": "https://localhost:8080/",
          "height": 198
        },
        "id": "a7XuEIIhu0nv",
        "outputId": "12aaebab-19a4-4fde-d5d0-64ee25fd8e13"
      },
      "execution_count": 9,
      "outputs": [
        {
          "output_type": "display_data",
          "data": {
            "text/plain": [
              "<Figure size 432x288 with 1 Axes>"
            ],
            "image/png": "[encoded data removed]"
          },
          "metadata": {
            "needs_background": "light"
          }
        }
      ]
    },
    {
      "cell_type": "markdown",
      "source": [
        "## Creating a Baseline Model\n",
        "\n",
        "To start, we build a model without any of the NLP tasks that would be useful for our sentiment analysis model. The model in this case accepts vectors that represent the word counts in the document. We vectorise the word input and obtain a sparse matrix, which we then supply to the model. But first, we must separate the data.\n",
        "\n",
        "We must input the counts and sentiments in order to separate the data. Additionally, this data must first be mixed up and divided into training and test sets. We perform a Stratified Shuffle Split using Scikit-Learn in order to achieve this.\n",
        "\n",
        "The data is evenly split into training and testing data thanks to a stratified shuffle split (70:30 split). This guarantees that data is evenly sampled from each class, unlike a random split. We'll utilise it once again for our primary model as well, which you'll see later. We then fit the model to the data after collecting it.\n",
        "\n",
        "The naïve bayes model performs admirably on its own, with an accuracy of 80.75% when given test data. Decision trees perform the poorest, which is sense given the vastness of the data because a too-deep tree would be useless. But as we can see, logistic regression works the best in this case. For this experiment, we will seet the naive bayes model as the baseline and build on top of that as well create our own neural network to work that uses LSTM for this task. Therefore, with the upcoming set of actions and models, we will attempt to improve this score even though we are still primarily concerned with naive bayes model."
      ],
      "metadata": {
        "id": "AI9FY5Z42Euo"
      }
    },
    {
      "cell_type": "code",
      "source": [
        "def baseline_model(model, x_train, x_test, y_train, y_test):\n",
        "\n",
        "    model = model.fit(x_train, y_train)\n",
        "    y_pred = model.predict(x_test)\n",
        "    print(f\"Accuracy: {metrics.accuracy_score(y_test, y_pred) * 100}\")\n",
        "    print(f\"Recall: {metrics.recall_score(y_test, naive_classifier_pred, average=None) * 100}\")\n",
        "    print(f\"Precision: {metrics.precision_score(y_test, naive_classifier_pred, average=None) * 100}\")\n",
        "    return None\n"
      ],
      "metadata": {
        "id": "MHp0fBLv2RF7"
      },
      "execution_count": 57,
      "outputs": []
    },
    {
      "cell_type": "code",
      "source": [
        "cow = CountVectorizer()\n",
        "count = cow.fit_transform(df['Reviews'])"
      ],
      "metadata": {
        "id": "9XUS_gh0AnG-"
      },
      "execution_count": 54,
      "outputs": []
    },
    {
      "cell_type": "code",
      "source": [
        "def shuffleSplit(data):\n",
        "  split = StratifiedShuffleSplit(n_splits=1, test_size=0.3, random_state=42)\n",
        "  split.get_n_splits(data, df['Sentiment'])\n",
        "  print(split)      \n",
        "  for train_index, test_index in split.split(data, df['Sentiment']):\n",
        "      print(\"TRAIN:\", len(train_index), \"TEST:\", len(test_index))\n",
        "      X_train, X_test = data[train_index], data[test_index]\n",
        "      y_train, y_test = df['Sentiment'][train_index], df['Sentiment'][test_index]\n",
        "  return X_train, X_test, y_train, y_test\n",
        "\n",
        "X_train, X_test, y_train, y_test = shuffleSplit(count)\n",
        "\n",
        "print(\"\\nThe data is as follows: \",X_train.shape, y_train.shape, X_test.shape, y_test.shape)\n"
      ],
      "metadata": {
        "colab": {
          "base_uri": "https://localhost:8080/"
        },
        "id": "Jxugx1neGi7o",
        "outputId": "a598bf85-4541-4d9c-e25f-42fc620c2654"
      },
      "execution_count": 55,
      "outputs": [
        {
          "output_type": "stream",
          "name": "stdout",
          "text": [
            "StratifiedShuffleSplit(n_splits=1, random_state=42, test_size=0.3,\n",
            "            train_size=None)\n",
            "TRAIN: 2800 TEST: 1200\n",
            "\n",
            "The data is as follows:  (2800, 35666) (2800,) (1200, 35666) (1200,)\n"
          ]
        }
      ]
    },
    {
      "cell_type": "code",
      "source": [
        "print(\"Naive bayes: \")\n",
        "baseline_model(MultinomialNB(), X_train, X_test, y_train, y_test)\n",
        "\n",
        "print(\"\\nDecision trees: \")\n",
        "baseline_model(DecisionTreeClassifier(max_depth=10, random_state=0), X_train, X_test, y_train, y_test)\n",
        "\n",
        "print(\"\\nLogistic regression: \")\n",
        "baseline_model(LogisticRegression(max_iter=20), X_train, X_test, y_train, y_test)"
      ],
      "metadata": {
        "colab": {
          "base_uri": "https://localhost:8080/"
        },
        "id": "fV5sQcGE3YV3",
        "outputId": "63f16855-5833-43c0-d738-6a734d35c0ea"
      },
      "execution_count": 58,
      "outputs": [
        {
          "output_type": "stream",
          "name": "stdout",
          "text": [
            "Naive bayes: \n",
            "Accuracy: 80.75\n",
            "Recall: [43.5        59.83333333]\n",
            "Precision: [51.99203187 51.43266476]\n",
            "\n",
            "Decision trees: \n",
            "Accuracy: 71.41666666666666\n",
            "Recall: [43.5        59.83333333]\n",
            "Precision: [51.99203187 51.43266476]\n",
            "\n",
            "Logistic regression: \n",
            "Accuracy: 83.41666666666666\n",
            "Recall: [43.5        59.83333333]\n",
            "Precision: [51.99203187 51.43266476]\n"
          ]
        },
        {
          "output_type": "stream",
          "name": "stderr",
          "text": [
            "/usr/local/lib/python3.8/dist-packages/sklearn/linear_model/_logistic.py:814: ConvergenceWarning: lbfgs failed to converge (status=1):\n",
            "STOP: TOTAL NO. of ITERATIONS REACHED LIMIT.\n",
            "\n",
            "Increase the number of iterations (max_iter) or scale the data as shown in:\n",
            "    https://scikit-learn.org/stable/modules/preprocessing.html\n",
            "Please also refer to the documentation for alternative solver options:\n",
            "    https://scikit-learn.org/stable/modules/linear_model.html#logistic-regression\n",
            "  n_iter_i = _check_optimize_result(\n"
          ]
        }
      ]
    },
    {
      "cell_type": "markdown",
      "source": [
        "## Creating a Basic LSTM for Sentiment Analysis\n",
        "A particular kind of supervised deep learning technique is recurrent neural networks. Over time, the neurons become interconnected with one another. RNNs are designed to recall the data that was present in earlier neurons so that these neurons can transmit data to themselves in the future for additional processing. The vanishing gradient, however, is one of the issues with RNN. We transmit the weights to these neurons throughout time. The weights from earlier in the network must be multiplied back through the gradient calculated at each time step. As a result, the gradient weakens and disappears as we move further back in time to calculate the weights in the network.\n",
        "\n",
        "To solve the vanishing gradient issue, RNN was upgraded to include LSTM. It features a memory cell at the top that makes it easier to efficiently transfer information from one point in time to the next. In contrast to RNN, it can therefore recall a great deal of data from earlier states and solve the vanishing gradient issue.\n",
        "\n",
        "Here, we use the LSTM layer from the keras libray in our model with the required layers for the model and we also use spatial dropout to promote independence between feature maps. On top of that we use the adam optimiser with a learnig rate to make sure we are efficient with our training. While training we employ eary stopping to ensure the model does not overfit to the data and remains generalised.\n",
        "\n",
        "References\n",
        "- https://www.analyticsvidhya.com/blog/2021/06/natural-language-processing-sentiment-analysis-using-lstm/\n",
        "- https://keras.io/api/layers/regularization_layers/spatial_dropout1d/#:~:text=SpatialDropout1D%20class&text=Spatial%201D%20version%20of%20Dropout,maps%20instead%20of%20individual%20elements.\n",
        "\n",
        "Here we tokenize the words using the tokenizer from keras. The tokenizer has two hyper parameters, one checks how many words to keep based on the frequency of words. The split refers to the delimeter used for splitting the text.\n",
        "Then we convert the sequence the sequence of text into a numpy array."
      ],
      "metadata": {
        "id": "w-zNaQ-trq9e"
      }
    },
    {
      "cell_type": "code",
      "source": [
        "tokenizer = Tokenizer(num_words=300, split=' ')\n",
        "tokenizer.fit_on_texts([' '.join(text) + ' ' for text in df['Lemmatized']])\n",
        "X = tokenizer.texts_to_sequences([' '.join(text) + ' ' for text in df['Lemmatized']])\n",
        "X = pad_sequences(X)"
      ],
      "metadata": {
        "id": "993TS71Fr0T1"
      },
      "execution_count": 25,
      "outputs": []
    },
    {
      "cell_type": "markdown",
      "source": [
        "We use `tf.backend.clear_session` to ensure that there are no pre-existing model history before we start the model preparation. The model summary can be seen below through the function `model.summary()`. We then get the label values, and then split our training and testing data for training."
      ],
      "metadata": {
        "id": "g7JHLE-tnYZY"
      }
    },
    {
      "cell_type": "code",
      "source": [
        "tf.keras.backend.clear_session\n",
        "\n",
        "lr_schedule = tf.keras.optimizers.schedules.ExponentialDecay(\n",
        "                initial_learning_rate=1e-2,\n",
        "                decay_steps=10000,\n",
        "                decay_rate=0.9)\n",
        "\n",
        "model = Sequential()\n",
        "model.add(Embedding(300, 120, input_length = X.shape[1]))\n",
        "model.add(SpatialDropout1D(0.4))\n",
        "model.add(LSTM(176, dropout=0.2, recurrent_dropout=0.2))\n",
        "model.add(Dense(2,activation='softmax'))\n",
        "model.compile(loss = 'categorical_crossentropy',\n",
        "              optimizer= tf.keras.optimizers.Adam(learning_rate=lr_schedule), \n",
        "              metrics = ['accuracy'])\n",
        "print(model.summary())"
      ],
      "metadata": {
        "colab": {
          "base_uri": "https://localhost:8080/"
        },
        "id": "gXda8EzfbmLP",
        "outputId": "01b8b5bd-1f76-4e2a-dc74-7c3364c5c449"
      },
      "execution_count": 26,
      "outputs": [
        {
          "output_type": "stream",
          "name": "stderr",
          "text": [
            "WARNING:tensorflow:Layer lstm will not use cuDNN kernels since it doesn't meet the criteria. It will use a generic GPU kernel as fallback when running on GPU.\n"
          ]
        },
        {
          "output_type": "stream",
          "name": "stdout",
          "text": [
            "Model: \"sequential\"\n",
            "_________________________________________________________________\n",
            " Layer (type)                Output Shape              Param #   \n",
            "=================================================================\n",
            " embedding (Embedding)       (None, 370, 120)          36000     \n",
            "                                                                 \n",
            " spatial_dropout1d (SpatialD  (None, 370, 120)         0         \n",
            " ropout1D)                                                       \n",
            "                                                                 \n",
            " lstm (LSTM)                 (None, 176)               209088    \n",
            "                                                                 \n",
            " dense (Dense)               (None, 2)                 354       \n",
            "                                                                 \n",
            "=================================================================\n",
            "Total params: 245,442\n",
            "Trainable params: 245,442\n",
            "Non-trainable params: 0\n",
            "_________________________________________________________________\n",
            "None\n"
          ]
        }
      ]
    },
    {
      "cell_type": "code",
      "source": [
        "y=pd.get_dummies(df['Sentiment'])\n",
        "X_train, X_test, y_train, y_test = train_test_split(X,y, test_size = 0.3, train_size=0.7, random_state = 42)"
      ],
      "metadata": {
        "id": "DdC3v14Nbpum"
      },
      "execution_count": 27,
      "outputs": []
    },
    {
      "cell_type": "code",
      "source": [
        "batch_size=16\n",
        "\n",
        "# Using Early Stopping to determine optimal epochs\n",
        "earlystopping = callbacks.EarlyStopping(monitor =\"accuracy\", \n",
        "                                        mode =\"max\", patience = 3, \n",
        "                                        restore_best_weights = True)\n",
        "\n",
        "history = model.fit(X_train, y_train, \n",
        "                    epochs = 10, \n",
        "                    batch_size=batch_size,\n",
        "                    callbacks=earlystopping, \n",
        "                    verbose = 'auto')"
      ],
      "metadata": {
        "colab": {
          "base_uri": "https://localhost:8080/"
        },
        "id": "hVUJ366kb1zX",
        "outputId": "4d0051f3-032f-498e-f4b5-aca379c3619b"
      },
      "execution_count": 29,
      "outputs": [
        {
          "output_type": "stream",
          "name": "stdout",
          "text": [
            "Epoch 1/10\n",
            "175/175 [==============================] - 111s 637ms/step - loss: 0.4043 - accuracy: 0.8171\n",
            "Epoch 2/10\n",
            "175/175 [==============================] - 113s 647ms/step - loss: 0.3760 - accuracy: 0.8300\n",
            "Epoch 3/10\n",
            "175/175 [==============================] - 115s 658ms/step - loss: 0.3665 - accuracy: 0.8368\n",
            "Epoch 4/10\n",
            "175/175 [==============================] - 114s 651ms/step - loss: 0.3599 - accuracy: 0.8421\n",
            "Epoch 5/10\n",
            "175/175 [==============================] - 135s 770ms/step - loss: 0.3820 - accuracy: 0.8289\n",
            "Epoch 6/10\n",
            "175/175 [==============================] - 135s 770ms/step - loss: 0.3748 - accuracy: 0.8346\n",
            "Epoch 7/10\n",
            "175/175 [==============================] - 123s 705ms/step - loss: 0.3641 - accuracy: 0.8436\n",
            "Epoch 8/10\n",
            "175/175 [==============================] - 135s 771ms/step - loss: 0.3594 - accuracy: 0.8421\n",
            "Epoch 9/10\n",
            "175/175 [==============================] - 114s 650ms/step - loss: 0.3580 - accuracy: 0.8400\n",
            "Epoch 10/10\n",
            "175/175 [==============================] - 118s 672ms/step - loss: 0.3778 - accuracy: 0.8300\n"
          ]
        }
      ]
    },
    {
      "cell_type": "markdown",
      "source": [
        "## Creating a Multi Nomial Naive Bayes Classifier using TF-IDF\n",
        "\n",
        "We use TF-IDF vectorizer here to provide meaningful number representation to our texts. The TF-IDF vectorizer considers overall documents of weight of words. We basically create a vector space where each term of vector is indexed as our index vocabulary. The TF-IDF vectorizer looks at the frequency of occurence of word in the document with frequency of word in the entire corpus. Additionally it also normalises the data as well.\n",
        "\n",
        "We do not tune the hypereparameters, min_df and max_df in the TF-IDF vectoriser as we already remove a lot of the stopwords from the corpus using nltk's stop word list and some of our own additions. It might be believed that letting terms that occur often would reduce the quality of TF-IDF but this not the case as the formula accounts for reducing the weightage of such terms. Therefore, pruning terms based on `min_df` and `max_df` is for improving performance and would not be useful here. (https://stackoverflow.com/questions/27697766/understanding-min-df-and-max-df-in-scikit-countvectorizer)\n",
        "\n",
        "We use the `ngram_range` to perform a chunking of sorts. It sets up the word tokens to consider a single word or a pair of words together. For example, `['he will', 'today, 'great weather']`. This helps us improve our feature space and creates relational mapping with words to better weight them.\n",
        "\n",
        "Furthermore, the data we provide to the algorithm here is lemmatized, cleaned and has the stop words removed along with additional words to our liking."
      ],
      "metadata": {
        "id": "Kw-FB585p7GC"
      }
    },
    {
      "cell_type": "code",
      "source": [
        "tfidf = TfidfVectorizer(max_features=100000, ngram_range=(1,2))\n",
        "vector = tfidf.fit_transform([' '.join(text) + ' ' for text in df['Lemmatized']])\n",
        "vector_stem = tfidf.fit_transform([' '.join(text) + ' ' for text in df['Stemmed']])"
      ],
      "metadata": {
        "id": "y6jin72DsiPi"
      },
      "execution_count": 30,
      "outputs": []
    },
    {
      "cell_type": "code",
      "source": [
        "X_train, X_test, y_train, y_test = train_test_split(vector, df['Sentiment'], test_size = 0.3, train_size=0.7, random_state = 42)"
      ],
      "metadata": {
        "id": "-oysbWv-qjRX"
      },
      "execution_count": 31,
      "outputs": []
    },
    {
      "cell_type": "code",
      "source": [
        "naive_classifier = MultinomialNB()\n",
        "naive_classifier.fit(X_train,y_train)\n",
        "naive_classifier_pred = naive_classifier.predict(X_test)"
      ],
      "metadata": {
        "id": "HnMxTSL3qSEX"
      },
      "execution_count": 32,
      "outputs": []
    },
    {
      "cell_type": "markdown",
      "source": [
        "## Models evaluation\n",
        "\n",
        "We decide to evaluate our model by checking the accuracy, precision and recall and we look for changes in these values from the model before."
      ],
      "metadata": {
        "id": "omMkTxhpj1rd"
      }
    },
    {
      "cell_type": "code",
      "source": [
        "naive_classifier = MultinomialNB()\n",
        "naive_classifier.fit(X_train,y_train)\n",
        "naive_classifier_pred = naive_classifier.predict(X_test)\n",
        "print(f\"Accuracy of Naive Bayes using TF-IDF: {metrics.accuracy_score(y_test, naive_classifier_pred) * 100}\")\n",
        "print(f\"Recall of Naive Bayes using TF-IDF: {metrics.recall_score(y_test, naive_classifier_pred, average=None) * 100}\")\n",
        "print(f\"Precision of Naive Bayes using TF-IDF: {metrics.precision_score(y_test, naive_classifier_pred, average=None) * 100}\")"
      ],
      "metadata": {
        "colab": {
          "base_uri": "https://localhost:8080/"
        },
        "id": "NTPGf-4XsZLi",
        "outputId": "54b68bd3-ed74-41bc-d38d-1546f600ac62"
      },
      "execution_count": 33,
      "outputs": [
        {
          "output_type": "stream",
          "name": "stdout",
          "text": [
            "Accuracy of Naive Bayes using TF-IDF: 83.0\n",
            "Recall of Naive Bayes using TF-IDF: [73.95498392 92.73356401]\n",
            "Precision of Naive Bayes using TF-IDF: [91.63346614 76.79083095]\n"
          ]
        }
      ]
    },
    {
      "cell_type": "markdown",
      "source": [
        "### The Recieving Operating Characteristic of Naive Bayes & Confusion Matrix\n",
        "\n",
        "The ROC curve here shows the sensitivity the classifier at the expense of fall out. The classifier is better the more the curve goes towards the upper left corner. Here we see that the classifier has primarily made good classifications above the diagonal line. Another metric is the area under the curve, a good classifier would have a score of 1. This classifier has a very good score of 91.8%. However, we see from the confusion matrix that it has issues with positive ratings and identifies a lot of the reviews as False Positives."
      ],
      "metadata": {
        "id": "l4yoaCQPnt9S"
      }
    },
    {
      "cell_type": "code",
      "source": [
        "y_probas = cross_val_predict(naive_classifier, X_train, y_train, cv=3, method=\"predict_proba\")\n",
        "y_scores = y_probas[:, 1]\n",
        "fpr, tpr, thresholds = metrics.roc_curve(y_train, y_scores)\n",
        "\n",
        "def plot_roc_curve(fpr, tpr, label=None):\n",
        "    plt.plot(fpr, tpr, linewidth=2, label=label)\n",
        "    plt.plot([0, 1], [0, 1], \"k--\")\n",
        "    plt.axis([0, 1, 0, 1.01])\n",
        "    plt.xlabel(\"False positive rate (fpr)\")\n",
        "    plt.ylabel(\"True positive rate (tpr)\")\n",
        "    \n",
        "plot_roc_curve(fpr, tpr, \"Multinomial Naive Bayes\")\n",
        "plt.show()"
      ],
      "metadata": {
        "colab": {
          "base_uri": "https://localhost:8080/",
          "height": 281
        },
        "id": "lHyrgT9Rr1qE",
        "outputId": "a4c1634a-fa05-466f-8060-dcb4d0df1b55"
      },
      "execution_count": 44,
      "outputs": [
        {
          "output_type": "display_data",
          "data": {
            "text/plain": [
              "<Figure size 432x288 with 1 Axes>"
            ],
            "image/png": "[encoded data removed]"
          },
          "metadata": {
            "needs_background": "light"
          }
        }
      ]
    },
    {
      "cell_type": "code",
      "source": [
        "y_scores_cm = cross_val_predict(naive_classifier, X_train, y_train, cv=5)\n",
        "print(\"The AUC score of the following naive bayes classifier with TF-IDF:\", metrics.roc_auc_score(y_train, y_scores))\n",
        "print(\"The confusion matrix of the following naive bayes classifier: \\n\", metrics.confusion_matrix(y_train, y_scores_cm))"
      ],
      "metadata": {
        "colab": {
          "base_uri": "https://localhost:8080/"
        },
        "id": "rm9cfFg5tgUu",
        "outputId": "6c7f3503-f518-4299-d7fb-a7d16dbd8e36"
      },
      "execution_count": 50,
      "outputs": [
        {
          "output_type": "stream",
          "name": "stdout",
          "text": [
            "The AUC score of the following naive bayes classifier with TF-IDF: 0.9189432492513457\n",
            "The confusion matrix of the following naive bayes classifier: \n",
            " [[ 975  403]\n",
            " [ 118 1304]]\n"
          ]
        }
      ]
    },
    {
      "cell_type": "markdown",
      "source": [
        "### Evaluating the Neural Network\n",
        "Overall the neural network does not perform particularly better than the models we had proposed before. There is very little increase the accuracy of the model when testing. Furthermore, the time consumption to train the model is also not beneficial for developmental practices. \n",
        "\n",
        "However, the model has not been tuned and trained for large epochs. Given that the model only has ~250,000 parameters and is trained for 15 mins over 10 epochs it performs relatively well. With further improvements and extensive training time it might be possible to get a better score compared to other models. \n",
        "\n",
        "The inspiration to create this model came from the BERT model (https://arxiv.org/abs/1810.04805) that uses deep bidirectional transformers to train upon unlabelled text data. The simple BERT model is able to perform with an accuracy of 86.8% and the tuned model is able to get an accuracy of 95.79%. Although these results are either acheived due to the tuning of hyper parameters and also intense training times, which were not possible here."
      ],
      "metadata": {
        "id": "U2ZiELPuwBpK"
      }
    },
    {
      "cell_type": "code",
      "source": [
        "X_train, X_test, y_train, y_test = train_test_split(X,y, test_size = 0.3, train_size=0.7, random_state = 42)\n",
        "# Printing metrics\n",
        "print('Final loss and accuracy of Neural Network:', model.evaluate(X_test, y_test))\n",
        "print('Final predictions of Neural Network: \\n', model.predict(X_test), sep='\\n')\n",
        "\n",
        "# Setting up the plot which shows the accuracy and the loss\n",
        "plt.title(\"Accuracy v Loss\")\n",
        "plt.plot(pd.DataFrame(history.history).loc[:,[\"accuracy\",\"loss\"]], label='Inline label')\n",
        "plt.legend(labels=[\"Accuracy\", \"Loss\"])\n",
        "plt.grid(True)\n",
        "plt.gca().set_ylim(0, 1)\n",
        "plt.show()"
      ],
      "metadata": {
        "colab": {
          "base_uri": "https://localhost:8080/",
          "height": 489
        },
        "id": "cJ19GjQRgMff",
        "outputId": "b51db334-36a8-4d2f-e1b6-9ffe44db6814"
      },
      "execution_count": 51,
      "outputs": [
        {
          "output_type": "stream",
          "name": "stdout",
          "text": [
            "38/38 [==============================] - 4s 95ms/step - loss: 0.6370 - accuracy: 0.7475\n",
            "Final loss and accuracy of Neural Network: [0.6369839906692505, 0.7475000023841858]\n",
            "38/38 [==============================] - 5s 125ms/step\n",
            "Final predictions of Neural Network: \n",
            "\n",
            "[[0.38332793 0.61667204]\n",
            " [0.42050645 0.5794936 ]\n",
            " [0.9570543  0.04294563]\n",
            " ...\n",
            " [0.88219017 0.11780982]\n",
            " [0.9636646  0.03633544]\n",
            " [0.08453786 0.9154622 ]]\n"
          ]
        },
        {
          "output_type": "display_data",
          "data": {
            "text/plain": [
              "<Figure size 432x288 with 1 Axes>"
            ],
            "image/png": "[encoded data removed]"
          },
          "metadata": {
            "needs_background": "light"
          }
        }
      ]
    },
    {
      "cell_type": "markdown",
      "source": [
        "## Conclusion\n",
        "\n",
        "investigated, including tokenization, pos tagging, chunking, lemmatization, stemming, word frequency analysis, term weighting, vectorization, and stopword removal. In order to make processing easier, we started by collecting data from text files and organising it in a data structure. The next step was to remove extraneous punctuation, HTML elements, capital letters, and characters. Then, we lemmatized or applied stemming to our data. The material was subsequently lemmatized since it was more textually relatable. This came at the expense of stemming's computing speed, though. Then, we set up the sentiment column according to the review extraction folders. This allowed us to create a data frame with relevant data for us. \n",
        "\n",
        "After the data had been acquired, we began testing a few models with raw text to check their efficiency without any changes to our data. We saw that most of them gave us good accuracy, however, the precision and recal offered from these models were not up to par. Therefore we set up to create a model that would improve on these various metrics.\n",
        "\n",
        "Given that we already had processed the data, the next step involved the employment of term weighting on our data with the help of TF-IDF vectoriser that was in scikit-learn. We also used ngram_range to perform basic chunking on our text to reduce the feature and improve feature mapping.\n",
        "\n",
        "Finally we applied this data on a naive bayes model and gained a bump in accuracy by 2% and major bumps in the precision and recall of our model.\n",
        "\n",
        "Going through this project, we see that a lot of the models can gain relatively good accuracy from raw text, however the precision and recall is not up to par. Therefore, the text processing tasks would help the model to become much better at a general task. "
      ],
      "metadata": {
        "id": "Ph71IBp4_Jd0"
      }
    }
  ]
}